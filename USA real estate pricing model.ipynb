{
 "cells": [
  {
   "cell_type": "markdown",
   "id": "714bc7bc",
   "metadata": {
    "pycharm": {
     "name": "#%% md\n"
    }
   },
   "source": [
    "# 資料處理階段"
   ]
  },
  {
   "cell_type": "code",
   "execution_count": 2,
   "id": "90055d50",
   "metadata": {
    "pycharm": {
     "name": "#%%\n"
    },
    "scrolled": true
   },
   "outputs": [
    {
     "name": "stdout",
     "output_type": "stream",
     "text": [
      "    price  bed  bath        state  house_size pricepersize\n",
      "0  105000  3.0   2.0  Puerto Rico       920.0  114.1304348\n",
      "1   80000  4.0   2.0  Puerto Rico      1527.0  52.39030779\n",
      "2   67000  2.0   1.0  Puerto Rico       748.0  89.57219251\n",
      "3  145000  4.0   2.0  Puerto Rico      1800.0  80.55555556\n",
      "4   65000  6.0   2.0  Puerto Rico         NaN      #DIV/0!\n",
      "---------------------    price  bed  bath        state  house_size pricepersize\n",
      "0  105000  3.0   2.0  Puerto Rico       920.0  114.1304348\n",
      "1   80000  4.0   2.0  Puerto Rico      1527.0  52.39030779\n",
      "2   67000  2.0   1.0  Puerto Rico       748.0  89.57219251\n",
      "3  145000  4.0   2.0  Puerto Rico      1800.0  80.55555556\n",
      "5  179000  4.0   3.0  Puerto Rico      2520.0  71.03174603\n"
     ]
    }
   ],
   "source": [
    "import pandas as pd\n",
    "\n",
    "real_estate = pd.read_csv(\"/Users/araschang/Desktop/coding/USA real estate pricing model/realtor-data.csv\")\n",
    "print(real_estate.head())\n",
    "for i in range(real_estate.shape[0]):\n",
    "    if real_estate[\"pricepersize\"][i] == '#DIV/0!':\n",
    "        real_estate = real_estate.drop(i)\n",
    "    if i % 10000 == 0:\n",
    "        print('-', end='')\n",
    "print(real_estate.head())"
   ]
  },
  {
   "cell_type": "code",
   "execution_count": 28,
   "id": "bb5f3759",
   "metadata": {
    "pycharm": {
     "name": "#%%\n"
    }
   },
   "outputs": [],
   "source": [
    "import pandas as pd\n",
    "real_estate[\"pricepersize\"] = real_estate[\"pricepersize\"].astype(int, errors='raise')\n",
    "real_estate = real_estate.dropna(how='any')\n",
    "real_estate.to_csv(\"real_estate.csv\")"
   ]
  },
  {
   "cell_type": "markdown",
   "id": "f68e5c1d",
   "metadata": {
    "pycharm": {
     "name": "#%% md\n"
    }
   },
   "source": [
    "# 迴歸模型"
   ]
  },
  {
   "cell_type": "code",
   "execution_count": 137,
   "id": "9c9ba7e5",
   "metadata": {
    "pycharm": {
     "name": "#%%\n"
    }
   },
   "outputs": [
    {
     "data": {
      "image/png": "[encoded data removed]",
      "text/plain": [
       "<Figure size 432x288 with 1 Axes>"
      ]
     },
     "metadata": {
      "needs_background": "light"
     },
     "output_type": "display_data"
    },
    {
     "name": "stdout",
     "output_type": "stream",
     "text": [
      "Coefficient:  [[-0.00525381]]\n",
      "Intercept:  [451.46523562]\n",
      "R:  0.0238903100367027\n",
      "R square:  0.0005707469136497778\n",
      "Adjust R square:  0.0005648841613159483\n"
     ]
    }
   ],
   "source": [
    "# 單迴歸模型（x：house_size, y：price）\n",
    "import pandas as pd\n",
    "from sklearn.linear_model import LinearRegression\n",
    "import matplotlib.pyplot as plt\n",
    "\n",
    "real_estate = pd.read_csv(\"/Users/araschang/Desktop/coding/PycharmProjects/learning/machine learning/USA real estate pricing model/real_estate.csv\")\n",
    "\n",
    "lm = LinearRegression()\n",
    "price = real_estate[\"pricepersize\"].values.reshape(-1, 1)\n",
    "bed = real_estate['bed'].values.reshape(-1, 1)\n",
    "house_size = real_estate['house_size'].values.reshape(-1, 1)\n",
    "\n",
    "lm.fit(house_size, price)\n",
    "\n",
    "plt.scatter(house_size, price)\n",
    "plt.plot(house_size, lm.predict(house_size), color='black', linewidth=1)\n",
    "plt.xlabel('house size')\n",
    "plt.ylabel('price')\n",
    "plt.show()\n",
    "\n",
    "print(\"Coefficient: \", lm.coef_)\n",
    "print(\"Intercept: \", lm.intercept_)\n",
    "print(\"R: \", lm.score(house_size, price) ** (1/2))\n",
    "print(\"R square: \", lm.score(house_size, price))\n",
    "print(\"Adjust R square: \", 1 - ((real_estate.shape[0]-1) /(real_estate.shape[0]-2))*(1-lm.score(house_size, price)))"
   ]
  },
  {
   "cell_type": "code",
   "execution_count": 135,
   "id": "2a447db8",
   "metadata": {
    "pycharm": {
     "name": "#%%\n"
    }
   },
   "outputs": [
    {
     "name": "stdout",
     "output_type": "stream",
     "text": [
      "Coefficient:  [[ 2.55126765e-02 -3.12153886e+01]]\n",
      "Intercept:  [493.90934229]\n",
      "R:  0.15716287906289278\n",
      "R square:  0.024700170555337464\n",
      "Adjust R square:  0.024688728074790167\n"
     ]
    }
   ],
   "source": [
    "# 複迴歸模型（x：house_size, bed, y：price）\n",
    "import pandas as pd\n",
    "from sklearn.linear_model import LinearRegression\n",
    "import matplotlib.pyplot as plt\n",
    "import numpy as np\n",
    "\n",
    "real_estate = pd.read_csv(\"/Users/araschang/Desktop/coding/PycharmProjects/learning/machine learning/USA real estate pricing model/real_estate.csv\")\n",
    "lm = LinearRegression()\n",
    "price = real_estate[\"pricepersize\"].values.reshape(-1, 1)\n",
    "bed = real_estate['bed'].values.reshape(-1, 1)\n",
    "bath = real_estate['bath'].values.reshape(-1, 1)\n",
    "house_size = real_estate['house_size'].values.reshape(-1, 1)\n",
    "x_temp = np.hstack((house_size, bed))\n",
    "\n",
    "lm.fit(x_temp, price)\n",
    "\n",
    "print(\"Coefficient: \", lm.coef_)\n",
    "print(\"Intercept: \", lm.intercept_)\n",
    "print(\"R: \", lm.score(x_temp, price) ** (1/2))\n",
    "print(\"R square: \", lm.score(x_temp, price))\n",
    "print(\"Adjust R square: \", 1 - ((real_estate.shape[0]-1) /(real_estate.shape[0]-3))*(1-lm.score(x_temp, price)))"
   ]
  },
  {
   "cell_type": "code",
   "execution_count": 133,
   "id": "40051be1",
   "metadata": {
    "pycharm": {
     "name": "#%%\n"
    }
   },
   "outputs": [
    {
     "name": "stdout",
     "output_type": "stream",
     "text": [
      "Coefficient:  [[-6.72685335e+01  2.49121378e+02 -1.93525636e+01 -8.15313200e+01\n",
      "   1.73459846e+01 -5.98413001e+01 -1.52764044e+01 -7.03573562e+01\n",
      "   4.71601148e+01  7.26614648e-03 -5.53934483e+01  3.96030683e+01]]\n",
      "Intercept:  [340.00324032]\n",
      "R:  0.41158319861137077\n",
      "R square:  0.16940072937916706\n",
      "Adjust R square:  0.16934225706162953\n"
     ]
    }
   ],
   "source": [
    "# 複回歸（x：house_size, bed, bath, 州別, y：price）\n",
    "import pandas as pd\n",
    "from sklearn.linear_model import LinearRegression\n",
    "import matplotlib.pyplot as plt\n",
    "import numpy as np\n",
    "\n",
    "real_estate = pd.read_csv(\"/Users/araschang/Desktop/coding/PycharmProjects/learning/machine learning/USA real estate pricing model/real_estate.csv\")\n",
    "lm = LinearRegression()\n",
    "price = real_estate[\"pricepersize\"].values.reshape(-1, 1)\n",
    "bed = real_estate['bed'].values.reshape(-1, 1)\n",
    "bath = real_estate['bath'].values.reshape(-1, 1)\n",
    "house_size = real_estate['house_size'].values.reshape(-1, 1)\n",
    "stateFactor = pd.get_dummies(real_estate['state'])\n",
    "x_temp = np.hstack((stateFactor, house_size, bed, bath))\n",
    "lm.fit(x_temp, price)\n",
    "\n",
    "predict_y = lm.predict(x_temp)\n",
    "print(\"Coefficient: \", lm.coef_)\n",
    "print(\"Intercept: \", lm.intercept_)\n",
    "print(\"R: \", lm.score(x_temp, price) ** (1/2))\n",
    "print(\"R square: \", lm.score(x_temp, price))\n",
    "print(\"Adjust R square: \", 1 - ((real_estate.shape[0]-1) /(real_estate.shape[0]-13))*(1-lm.score(x_temp, price)))"
   ]
  },
  {
   "cell_type": "code",
   "execution_count": 1,
   "id": "ba7ea6b1",
   "metadata": {
    "pycharm": {
     "name": "#%%\n"
    }
   },
   "outputs": [
    {
     "name": "stdout",
     "output_type": "stream",
     "text": [
      "Coefficient:  [[-5.60641328e+06 -5.60602653e+06 -5.60638227e+06 -2.24015937e+00\n",
      "  -5.60620242e+06 -5.60643700e+06 -5.60629278e+06 -5.60637344e+06\n",
      "  -5.60633925e+06 -3.73783855e+02 -7.48947269e+01  7.05651468e+01\n",
      "   9.59242896e-01  1.04318555e-02 -5.69677551e-03  3.73808638e+02\n",
      "   3.73699661e+02  3.73740262e+02 -3.36383093e+03  3.73763299e+02\n",
      "   3.73784469e+02  3.73716411e+02  3.73783237e+02  3.73751915e+02\n",
      "   1.34396099e+01 -3.95469157e+01  3.09899554e+01 -6.72766185e+00\n",
      "  -5.20099357e+01 -1.80490070e+01  1.83887545e+01 -2.48212534e+00\n",
      "  -1.88966563e+01 -5.17960770e+01  7.87087346e+01 -6.12197577e+00\n",
      "  -6.72766185e+00  2.58776260e+01  3.02558167e+01 -1.36735114e+01\n",
      "  -3.32738853e+01  4.73167084e+01 -1.22185315e-04]]\n",
      "Intercept:  [5606670.20421956]\n",
      "R:  0.48302295654819905\n",
      "R square:  0.2333111765525634\n",
      "Adjust R square:  0.23322571553019655\n"
     ]
    }
   ],
   "source": [
    "# 複迴歸模型（x:大雜燴, y：price）\n",
    "import pandas as pd\n",
    "from sklearn.linear_model import LinearRegression\n",
    "import matplotlib.pyplot as plt\n",
    "import numpy as np\n",
    "\n",
    "real_estate = pd.read_csv(\"/Users/araschang/Desktop/coding/PycharmProjects/learning/machine learning/USA real estate pricing model/real_estate.csv\")\n",
    "lm = LinearRegression()\n",
    "price = real_estate[\"pricepersize\"].values.reshape(-1, 1)\n",
    "bed = real_estate['bed'].values.reshape(-1, 1)\n",
    "bath = real_estate['bath'].values.reshape(-1, 1)\n",
    "house_size = real_estate['house_size'].values.reshape(-1, 1)\n",
    "stateFactor = pd.get_dummies(real_estate['state'])\n",
    "x_temp = np.hstack((stateFactor, house_size, bed, bath, bed*bath, house_size*bed, house_size*bath, \\\n",
    "                    house_size*stateFactor, bed*stateFactor, bath*stateFactor, house_size*bath*bed))\n",
    "\n",
    "lm.fit(x_temp, price)\n",
    "\n",
    "predict_y = lm.predict(x_temp)\n",
    "print(\"Coefficient: \", lm.coef_)\n",
    "print(\"Intercept: \", lm.intercept_)\n",
    "print(\"R: \", lm.score(x_temp, price) ** (1/2))\n",
    "print(\"R square: \", lm.score(x_temp, price))\n",
    "print(\"Adjust R square: \", 1 - ((real_estate.shape[0]-1) /(real_estate.shape[0]-20))*(1-lm.score(x_temp, price)))"
   ]
  },
  {
   "cell_type": "markdown",
   "id": "cc17aff3",
   "metadata": {
    "pycharm": {
     "name": "#%% md\n"
    }
   },
   "source": [
    "# 預測模型用戶輸入"
   ]
  },
  {
   "cell_type": "code",
   "execution_count": 144,
   "id": "29810654",
   "metadata": {
    "pycharm": {
     "name": "#%%\n"
    }
   },
   "outputs": [
    {
     "name": "stdout",
     "output_type": "stream",
     "text": [
      "Which state do you want to buy: Puerto Rico\n",
      "How big is your house: 500\n",
      "How many bedrooms do you have: 3\n",
      "How many bathrooms do you have: 4\n",
      "Your house is valued at $186000.\n"
     ]
    }
   ],
   "source": [
    "Connecticut = 0\n",
    "Massachusetts = 0\n",
    "New_Hampshire = 0\n",
    "New_Jersey = 0\n",
    "New_York = 0\n",
    "Puerto_Rico = 0\n",
    "Rhode_Island = 0\n",
    "Vermont = 0\n",
    "Virgin_Islands = 0\n",
    "\n",
    "state = input(\"Which state do you want to buy: \")\n",
    "house_size = int(input(\"How big is your house: \"))\n",
    "bed = int(input(\"How many bedrooms do you have: \"))\n",
    "bath = int(input(\"How many bathrooms do you have: \"))\n",
    "\n",
    "if state == \"Connecticut\":\n",
    "    Connecticut = 1\n",
    "elif state == \"Massachusetts\":\n",
    "    Massachusetts = 1\n",
    "elif state == \"New Hampshire\":\n",
    "    New_Hampshire = 1\n",
    "elif state == \"New Jersey\": \n",
    "    New_Jersey = 1\n",
    "elif state == \"New York\":\n",
    "    New_York = 1\n",
    "elif state == \"Puerto Rico\":\n",
    "    Puerto_Rico = 1\n",
    "elif state == \"Rhode Island\":\n",
    "    Rhode_Island = 1\n",
    "elif state == \"Vermont\":\n",
    "    Vermont = 1\n",
    "elif state == \"Virgin Islands\":\n",
    "    Virgin_Islands = 1\n",
    "\n",
    "predict_price = -5.60641328e+06*Connecticut - 5.60602653e+06*Massachusetts - 5.60638227e+06*New_Hampshire - \\\n",
    "                2.24015937e+00*New_Jersey - 5.60620242e+06*New_York - 5.60643700e+06*Puerto_Rico - \\\n",
    "                5.60629278e+06*Rhode_Island - 5.60637344e+06*Vermont - 5.60633925e+06*Virgin_Islands - 3.73783855e+02*house_size - 7.48947269e+01*bed + 7.05651468e+01*bath + 9.59242896e-01*bed*bath + 1.04318555e-02*house_size*bed - 5.69677551e-03*house_size*bath + 3.73808638e+02*house_size*Connecticut + 3.73699661e+02*house_size*Massachusetts + 3.73740262e+02*house_size*New_Hampshire - 3.36383093e+03*house_size*New_Jersey + 3.73763299e+02*house_size*New_York + 3.73784469e+02*house_size*Puerto_Rico + 3.73716411e+02*house_size*Rhode_Island + 3.73783237e+02*house_size*Vermont + 3.73751915e+02*house_size*Virgin_Islands + 1.34396099e+01*bed*Connecticut - 3.95469157e+01*bed*Massachusetts + 3.09899554e+01*bed*New_Hampshire - 6.72766185e+00*bed*New_Jersey - 5.20099357e+01*bed*New_York - 1.80490070e+01*bed*Puerto_Rico + 1.83887545e+01*bed*Rhode_Island - 2.48212534e+00*bed*Vermont - 1.88966563e+01*bed*Virgin_Islands - 5.17960770e+01*bath*Connecticut + 7.87087346e+01*bath*Massachusetts - 6.12197577e+00*bath*New_Hampshire - 6.72766185e+00*bath*New_Jersey + 2.58776260e+01*bath*New_York + 3.02558167e+01*bath*Puerto_Rico - 1.36735114e+01*bath*Rhode_Island - 3.32738853e+01*bath*Vermont + 4.73167084e+01*bath*Virgin_Islands - 1.22185315e-04*house_size*bath*bed + 5606670.20421956\n",
    "\n",
    "print(\"Your house is valued at $\" + str(house_size * int(predict_price)) + '.')\n"
   ]
  }
 ],
 "metadata": {
  "interpreter": {
   "hash": "f52173e4bbea47d84d130855821094b39dd48ebcf3b557e80019f41a6280c411"
  },
  "kernelspec": {
   "display_name": "Python 3 (ipykernel)",
   "language": "python",
   "name": "python3"
  },
  "language_info": {
   "codemirror_mode": {
    "name": "ipython",
    "version": 3
   },
   "file_extension": ".py",
   "mimetype": "text/x-python",
   "name": "python",
   "nbconvert_exporter": "python",
   "pygments_lexer": "ipython3",
   "version": "3.8.13"
  }
 },
 "nbformat": 4,
 "nbformat_minor": 5
}
